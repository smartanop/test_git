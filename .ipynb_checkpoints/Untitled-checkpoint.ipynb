{
 "cells": [
  {
   "cell_type": "code",
   "execution_count": 11,
   "metadata": {},
   "outputs": [
    {
     "name": "stdout",
     "output_type": "stream",
     "text": [
      "callingfoo\n",
      "hello :  anop\n"
     ]
    }
   ],
   "source": [
    "def decorate(fun):\n",
    "    def tmp(*args, **kwargs):\n",
    "        print(\"calling\" +fun.__name__)\n",
    "        return fun(*args,**kwargs)\n",
    "    return tmp\n",
    "\n",
    "\n",
    "\n",
    "@decorate\n",
    "def foo(s):\n",
    "    print(\"hello : \",s)\n",
    "\n",
    "foo(\"anop\")\n",
    "    "
   ]
  }
 ],
 "metadata": {
  "kernelspec": {
   "display_name": "Python 3",
   "language": "python",
   "name": "python3"
  },
  "language_info": {
   "codemirror_mode": {
    "name": "ipython",
    "version": 3
   },
   "file_extension": ".py",
   "mimetype": "text/x-python",
   "name": "python",
   "nbconvert_exporter": "python",
   "pygments_lexer": "ipython3",
   "version": "3.5.2"
  }
 },
 "nbformat": 4,
 "nbformat_minor": 2
}
